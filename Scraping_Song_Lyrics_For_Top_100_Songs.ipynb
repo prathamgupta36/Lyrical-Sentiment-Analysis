{
 "cells": [
  {
   "cell_type": "code",
   "execution_count": 1,
   "id": "b483f96e-322f-46fc-ab98-89c4f555003c",
   "metadata": {
    "colab": {
     "base_uri": "https://localhost:8080/"
    },
    "id": "b483f96e-322f-46fc-ab98-89c4f555003c",
    "outputId": "5560dce4-8240-49fd-80f2-5017ef5c9b43"
   },
   "outputs": [
    {
     "name": "stdout",
     "output_type": "stream",
     "text": [
      "Requirement already satisfied: webdriver-manager in /opt/homebrew/lib/python3.11/site-packages (4.0.1)\n",
      "Requirement already satisfied: requests in /opt/homebrew/lib/python3.11/site-packages (from webdriver-manager) (2.31.0)\n",
      "Requirement already satisfied: python-dotenv in /opt/homebrew/lib/python3.11/site-packages (from webdriver-manager) (1.0.0)\n",
      "Requirement already satisfied: packaging in /opt/homebrew/lib/python3.11/site-packages (from webdriver-manager) (23.2)\n",
      "Requirement already satisfied: charset-normalizer<4,>=2 in /opt/homebrew/lib/python3.11/site-packages (from requests->webdriver-manager) (3.2.0)\n",
      "Requirement already satisfied: idna<4,>=2.5 in /opt/homebrew/lib/python3.11/site-packages (from requests->webdriver-manager) (3.4)\n",
      "Requirement already satisfied: urllib3<3,>=1.21.1 in /opt/homebrew/lib/python3.11/site-packages (from requests->webdriver-manager) (2.0.5)\n",
      "Requirement already satisfied: certifi>=2017.4.17 in /opt/homebrew/lib/python3.11/site-packages (from requests->webdriver-manager) (2023.11.17)\n",
      "Note: you may need to restart the kernel to use updated packages.\n"
     ]
    }
   ],
   "source": [
    "pip install webdriver-manager"
   ]
  },
  {
   "cell_type": "code",
   "execution_count": 2,
   "id": "5672a353-aa32-481e-a7fd-423e2aa80f7d",
   "metadata": {
    "colab": {
     "base_uri": "https://localhost:8080/"
    },
    "id": "5672a353-aa32-481e-a7fd-423e2aa80f7d",
    "outputId": "8067b32a-6693-4436-f6e1-ebabbe030b8e"
   },
   "outputs": [
    {
     "name": "stdout",
     "output_type": "stream",
     "text": [
      "Requirement already satisfied: selenium in /opt/homebrew/lib/python3.11/site-packages (4.18.1)\n",
      "Requirement already satisfied: urllib3<3,>=1.26 in /opt/homebrew/lib/python3.11/site-packages (from urllib3[socks]<3,>=1.26->selenium) (2.0.5)\n",
      "Requirement already satisfied: trio~=0.17 in /opt/homebrew/lib/python3.11/site-packages (from selenium) (0.24.0)\n",
      "Requirement already satisfied: trio-websocket~=0.9 in /opt/homebrew/lib/python3.11/site-packages (from selenium) (0.11.1)\n",
      "Requirement already satisfied: certifi>=2021.10.8 in /opt/homebrew/lib/python3.11/site-packages (from selenium) (2023.11.17)\n",
      "Requirement already satisfied: typing_extensions>=4.9.0 in /opt/homebrew/lib/python3.11/site-packages (from selenium) (4.9.0)\n",
      "Requirement already satisfied: attrs>=20.1.0 in /opt/homebrew/lib/python3.11/site-packages (from trio~=0.17->selenium) (23.1.0)\n",
      "Requirement already satisfied: sortedcontainers in /opt/homebrew/lib/python3.11/site-packages (from trio~=0.17->selenium) (2.4.0)\n",
      "Requirement already satisfied: idna in /opt/homebrew/lib/python3.11/site-packages (from trio~=0.17->selenium) (3.4)\n",
      "Requirement already satisfied: outcome in /opt/homebrew/lib/python3.11/site-packages (from trio~=0.17->selenium) (1.3.0.post0)\n",
      "Requirement already satisfied: sniffio>=1.3.0 in /opt/homebrew/lib/python3.11/site-packages (from trio~=0.17->selenium) (1.3.0)\n",
      "Requirement already satisfied: wsproto>=0.14 in /opt/homebrew/lib/python3.11/site-packages (from trio-websocket~=0.9->selenium) (1.2.0)\n",
      "Requirement already satisfied: pysocks!=1.5.7,<2.0,>=1.5.6 in /opt/homebrew/lib/python3.11/site-packages (from urllib3[socks]<3,>=1.26->selenium) (1.7.1)\n",
      "Requirement already satisfied: h11<1,>=0.9.0 in /opt/homebrew/lib/python3.11/site-packages (from wsproto>=0.14->trio-websocket~=0.9->selenium) (0.14.0)\n",
      "Note: you may need to restart the kernel to use updated packages.\n"
     ]
    }
   ],
   "source": [
    "pip install selenium"
   ]
  },
  {
   "cell_type": "code",
   "execution_count": 3,
   "id": "2340f40e",
   "metadata": {
    "id": "2340f40e"
   },
   "outputs": [],
   "source": [
    "# Importing required libraries\n",
    "import pandas as pd\n",
    "import time\n",
    "\n",
    "from webdriver_manager.microsoft import EdgeChromiumDriverManager\n",
    "from selenium.webdriver.common.by import By\n",
    "from selenium import webdriver\n",
    "from selenium.webdriver.support.ui import WebDriverWait\n",
    "from selenium.webdriver.common.by import By\n",
    "from selenium.webdriver.support import expected_conditions as EC"
   ]
  },
  {
   "cell_type": "code",
   "execution_count": 4,
   "id": "1IDCFo3aUQVN",
   "metadata": {
    "colab": {
     "base_uri": "https://localhost:8080/"
    },
    "id": "1IDCFo3aUQVN",
    "outputId": "6348b554-bac8-4ec2-81ec-9923b1eab457"
   },
   "outputs": [
    {
     "name": "stdout",
     "output_type": "stream",
     "text": [
      "Requirement already satisfied: webdriver-manager in /opt/homebrew/lib/python3.11/site-packages (4.0.1)\n",
      "Requirement already satisfied: requests in /opt/homebrew/lib/python3.11/site-packages (from webdriver-manager) (2.31.0)\n",
      "Requirement already satisfied: python-dotenv in /opt/homebrew/lib/python3.11/site-packages (from webdriver-manager) (1.0.0)\n",
      "Requirement already satisfied: packaging in /opt/homebrew/lib/python3.11/site-packages (from webdriver-manager) (23.2)\n",
      "Requirement already satisfied: charset-normalizer<4,>=2 in /opt/homebrew/lib/python3.11/site-packages (from requests->webdriver-manager) (3.2.0)\n",
      "Requirement already satisfied: idna<4,>=2.5 in /opt/homebrew/lib/python3.11/site-packages (from requests->webdriver-manager) (3.4)\n",
      "Requirement already satisfied: urllib3<3,>=1.21.1 in /opt/homebrew/lib/python3.11/site-packages (from requests->webdriver-manager) (2.0.5)\n",
      "Requirement already satisfied: certifi>=2017.4.17 in /opt/homebrew/lib/python3.11/site-packages (from requests->webdriver-manager) (2023.11.17)\n",
      "Note: you may need to restart the kernel to use updated packages.\n"
     ]
    }
   ],
   "source": [
    "pip install --upgrade webdriver-manager"
   ]
  },
  {
   "cell_type": "code",
   "execution_count": 5,
   "id": "f6d8ebba",
   "metadata": {
    "colab": {
     "base_uri": "https://localhost:8080/",
     "height": 365
    },
    "id": "f6d8ebba",
    "outputId": "d4a22c7a-eab5-4e6b-ef70-f18e4d874e8d"
   },
   "outputs": [],
   "source": [
    "# Initializing the driver\n",
    "from webdriver_manager.firefox import GeckoDriverManager\n",
    "from selenium.webdriver.firefox.service import Service\n",
    "\n",
    "# Initialize the Firefox driver using WebDriverManager to handle the GeckoDriver\n",
    "# driver = webdriver.Firefox(executable_path=GeckoDriverManager().install())\n",
    "service = Service(executable_path=GeckoDriverManager().install())\n",
    "options = webdriver.FirefoxOptions()\n",
    "driver = webdriver.Firefox(service=service, options=options)\n",
    "# driver = webdriver.Firefox(executable_path= \"/Users/shashnavad/Downloads/Semantic Web Mining Project/geckodriver.exe\")\n",
    "#driver = webdriver.Chrome(r\"C:\\Users\\Amisha\\OneDrive\\Aegis\\NLP\\Project\\chromedriver.exe\")\n",
    "# Browsing to billboard hot-100 chart on the driver\n",
    "driver.get(\"https://www.billboard.com/charts/hot-100/\")\n",
    "dates = [str(i) for i in range(2019,2023)]\n",
    "#driver.get(\"https://www.google.com\")\n"
   ]
  },
  {
   "cell_type": "code",
   "execution_count": 6,
   "id": "db37fa9c",
   "metadata": {
    "colab": {
     "base_uri": "https://localhost:8080/",
     "height": 216
    },
    "id": "db37fa9c",
    "outputId": "a0144810-a345-43b1-d012-a89caecc2264"
   },
   "outputs": [
    {
     "name": "stdout",
     "output_type": "stream",
     "text": [
      "2014\n",
      "2015\n",
      "2016\n",
      "2017\n",
      "2018\n"
     ]
    }
   ],
   "source": [
    "import time\n",
    "\n",
    "artists_data = {} # List to store name of artists\n",
    "songs_data = {} # List to store top 100 songs\n",
    "\n",
    "for j in dates:\n",
    "    link = \"https://www.billboard.com/charts/hot-100/{}-07-01/\".format(j)\n",
    "    driver.implicitly_wait(10)\n",
    "    driver.get(link)\n",
    "\n",
    "    # Container for referencing the division with top 100 songs\n",
    "    div = driver.find_elements(By.CLASS_NAME,'o-chart-results-list-row-container')\n",
    "    songs, artists = [], []\n",
    "    print(j)\n",
    "    # Fetching the top 100 songs\n",
    "    for i in div:\n",
    "        # Getting the song name\n",
    "        song = i.find_element(By.CSS_SELECTOR,'li ul li h3').text\n",
    "        # Getting the artist name\n",
    "        name = i.find_element(By.CSS_SELECTOR,'li ul li span').text\n",
    "        # Appending the song and artist name to the lists\n",
    "        songs.append(song)\n",
    "        artists.append(name)\n",
    "    \n",
    "\n",
    "    artists_data[j] = artists\n",
    "    songs_data[j] = songs"
   ]
  },
  {
   "cell_type": "code",
   "execution_count": 7,
   "id": "45303ac4",
   "metadata": {
    "id": "45303ac4"
   },
   "outputs": [],
   "source": [
    "# Terminating a session and closing the active browser\n",
    "driver.close()"
   ]
  },
  {
   "cell_type": "code",
   "execution_count": 8,
   "id": "5e29594b",
   "metadata": {
    "id": "5e29594b"
   },
   "outputs": [],
   "source": [
    "service = Service(executable_path=GeckoDriverManager().install())\n",
    "options = webdriver.FirefoxOptions()\n",
    "driver = webdriver.Firefox(service=service, options=options)"
   ]
  },
  {
   "cell_type": "code",
   "execution_count": 9,
   "id": "476069b5",
   "metadata": {
    "id": "476069b5"
   },
   "outputs": [],
   "source": [
    "# Browsing to Google\n",
    "driver.get(\"https://www.google.com\")"
   ]
  },
  {
   "cell_type": "code",
   "execution_count": 10,
   "id": "a161faad",
   "metadata": {
    "id": "a161faad"
   },
   "outputs": [
    {
     "name": "stdout",
     "output_type": "stream",
     "text": [
      "2014\n",
      "2015\n",
      "2016\n",
      "2017\n",
      "2018\n"
     ]
    }
   ],
   "source": [
    "# Dataframe to store the song, artist and lyrics\n",
    "df = pd.DataFrame(columns = ['Top100Year','SongTitle','Artist','LyricsStatus','Lyrics','ReleaseYear','Genre'])\n",
    "\n",
    "# Fetching song lyrics for top 100 songs\n",
    "for year in songs_data.keys():\n",
    "    songs_list = songs_data[year]\n",
    "    artists_list = artists_data[year]\n",
    "    # Index Variable\n",
    "    a = 0\n",
    "    print(year)\n",
    "    for song in songs_list:\n",
    "        # Selenium WebDriverWait is one of the Explicit waits.\n",
    "        # Explicit waits are confined to a particular web element.\n",
    "        # Explicit Wait is code you define to wait for a certain condition to occur before proceeding further in the code.\n",
    "        # It is applied on certain element with defined expected condition and time.\n",
    "        # This wait is only applied to the specified element. This wait can also throw exception when element is not found.\n",
    "        # Here we will wait for the google search button element to be clickable.\n",
    "        # https://www.softwaretestingmaterial.com/webdriverwait-selenium-webdriver/\n",
    "        element = WebDriverWait(driver, 20).until(EC.element_to_be_clickable((By.NAME, \"q\")))\n",
    "        # Entering the search text\n",
    "        element.send_keys(\"{} {} lyrics\".format(artists_list[a],song))\n",
    "        # Submiting the form for google search\n",
    "        element.submit()\n",
    "        # To prevent captcha being initialized due to bot activity\n",
    "        time.sleep(10)\n",
    "        try:\n",
    "            # Fetching the default lyrics fetched by google using 'lyricfind'\n",
    "            lyric = driver.find_element(By.CLASS_NAME,'xaAUmb').text\n",
    "            # If default lyrics is available, set lyricstatus to True\n",
    "            # Lyric Status True indicates lyrics are available\n",
    "            status = True\n",
    "        except:\n",
    "            # If default lyrics is not available, set lyricstatus to False\n",
    "            # Lyric Status False indicates lyrics are not available\n",
    "            status = False\n",
    "            lyric = None\n",
    "        try:\n",
    "            # Fetching genre and release year of the song\n",
    "            info = driver.find_elements(By.CSS_SELECTOR,'div.rVusze')\n",
    "            for i in info:\n",
    "                if i.find_element(By.CLASS_NAME,'w8qArf').text == 'Released:':\n",
    "                    release_year = i.find_element(By.CLASS_NAME,'LrzXr').text\n",
    "                if i.find_element(By.CLASS_NAME,'w8qArf').text == 'Genres:':\n",
    "                    genre = i.find_element(By.CLASS_NAME,'LrzXr').text\n",
    "            if len(release_year) == 0:\n",
    "                release_year = None\n",
    "            if len(genre) == 0:\n",
    "                genre = None\n",
    "        except:\n",
    "            # If genre and year information is not available\n",
    "            release_year = None\n",
    "            genre = None\n",
    "        # Adding the song, artist and lyrics to dataframe\n",
    "        df.loc[len(df.index)] = [year, song, artists_list[a], status, lyric, release_year, genre]\n",
    "        a+=1\n",
    "        # Browsing back to Google search home page\n",
    "        driver.back()"
   ]
  },
  {
   "cell_type": "code",
   "execution_count": 11,
   "id": "05f0622b",
   "metadata": {
    "id": "05f0622b"
   },
   "outputs": [],
   "source": [
    "# Terminating a session and closing the active browser\n",
    "driver.close()"
   ]
  },
  {
   "cell_type": "code",
   "execution_count": 12,
   "id": "bd2a0d64",
   "metadata": {
    "id": "bd2a0d64",
    "outputId": "8bf68bca-9324-4d57-c804-24cb260b0c7e"
   },
   "outputs": [
    {
     "data": {
      "text/html": [
       "<div>\n",
       "<style scoped>\n",
       "    .dataframe tbody tr th:only-of-type {\n",
       "        vertical-align: middle;\n",
       "    }\n",
       "\n",
       "    .dataframe tbody tr th {\n",
       "        vertical-align: top;\n",
       "    }\n",
       "\n",
       "    .dataframe thead th {\n",
       "        text-align: right;\n",
       "    }\n",
       "</style>\n",
       "<table border=\"1\" class=\"dataframe\">\n",
       "  <thead>\n",
       "    <tr style=\"text-align: right;\">\n",
       "      <th></th>\n",
       "      <th>Top100Year</th>\n",
       "      <th>SongTitle</th>\n",
       "      <th>Artist</th>\n",
       "      <th>LyricsStatus</th>\n",
       "      <th>Lyrics</th>\n",
       "      <th>ReleaseYear</th>\n",
       "      <th>Genre</th>\n",
       "    </tr>\n",
       "  </thead>\n",
       "  <tbody>\n",
       "    <tr>\n",
       "      <th>0</th>\n",
       "      <td>2014</td>\n",
       "      <td>Fancy</td>\n",
       "      <td>Iggy Azalea Featuring Charli XCX</td>\n",
       "      <td>False</td>\n",
       "      <td>None</td>\n",
       "      <td>2014</td>\n",
       "      <td>UK R&amp;B, Hip-Hop/Rap, UK Rap</td>\n",
       "    </tr>\n",
       "    <tr>\n",
       "      <th>1</th>\n",
       "      <td>2014</td>\n",
       "      <td>Problem</td>\n",
       "      <td>Ariana Grande Featuring Iggy Azalea</td>\n",
       "      <td>True</td>\n",
       "      <td>Uh-huh!\\nIt's Iggy Iggs!\\nI got one more probl...</td>\n",
       "      <td>2014</td>\n",
       "      <td>Contemporary R&amp;B, R&amp;B/Soul, Pop</td>\n",
       "    </tr>\n",
       "    <tr>\n",
       "      <th>2</th>\n",
       "      <td>2014</td>\n",
       "      <td>Rude</td>\n",
       "      <td>MAGIC!</td>\n",
       "      <td>True</td>\n",
       "      <td>Saturday mornin', jumped out of bed\\nAnd put o...</td>\n",
       "      <td>2014</td>\n",
       "      <td>Reggae fusion, Pop</td>\n",
       "    </tr>\n",
       "    <tr>\n",
       "      <th>3</th>\n",
       "      <td>2014</td>\n",
       "      <td>Am I Wrong</td>\n",
       "      <td>Nico &amp; Vinz</td>\n",
       "      <td>True</td>\n",
       "      <td>Am I wrong for thinking out the box from where...</td>\n",
       "      <td>2014</td>\n",
       "      <td>Reggae fusion, Pop</td>\n",
       "    </tr>\n",
       "    <tr>\n",
       "      <th>4</th>\n",
       "      <td>2014</td>\n",
       "      <td>Stay With Me</td>\n",
       "      <td>Sam Smith</td>\n",
       "      <td>False</td>\n",
       "      <td>None</td>\n",
       "      <td>2014</td>\n",
       "      <td>Dance/Electronic, Pop, UK R&amp;B</td>\n",
       "    </tr>\n",
       "    <tr>\n",
       "      <th>...</th>\n",
       "      <td>...</td>\n",
       "      <td>...</td>\n",
       "      <td>...</td>\n",
       "      <td>...</td>\n",
       "      <td>...</td>\n",
       "      <td>...</td>\n",
       "      <td>...</td>\n",
       "    </tr>\n",
       "    <tr>\n",
       "      <th>495</th>\n",
       "      <td>2018</td>\n",
       "      <td>OTW</td>\n",
       "      <td>Khalid, Ty Dolla $ign &amp; 6LACK</td>\n",
       "      <td>True</td>\n",
       "      <td>Na, na, na, na, ooh\\nOh, no, oh, ayy\\nPut it i...</td>\n",
       "      <td>2018</td>\n",
       "      <td>Rhythm and blues, R&amp;B/Soul</td>\n",
       "    </tr>\n",
       "    <tr>\n",
       "      <th>496</th>\n",
       "      <td>2018</td>\n",
       "      <td>Solo</td>\n",
       "      <td>Clean Bandit Featuring Demi Lovato</td>\n",
       "      <td>True</td>\n",
       "      <td>You speak to me\\nAnd in your words I hear a me...</td>\n",
       "      <td>2018</td>\n",
       "      <td>Electronic dance music, Dance/Electronic</td>\n",
       "    </tr>\n",
       "    <tr>\n",
       "      <th>497</th>\n",
       "      <td>2018</td>\n",
       "      <td>Take Back Home Girl</td>\n",
       "      <td>Chris Lane Featuring Tori Kelly</td>\n",
       "      <td>False</td>\n",
       "      <td>None</td>\n",
       "      <td>2018</td>\n",
       "      <td>Electronic dance music, Dance/Electronic</td>\n",
       "    </tr>\n",
       "    <tr>\n",
       "      <th>498</th>\n",
       "      <td>2018</td>\n",
       "      <td>Boss</td>\n",
       "      <td>The Carters</td>\n",
       "      <td>True</td>\n",
       "      <td>Mm, mm\\nAin't nothing to it, real one\\nAin't n...</td>\n",
       "      <td>2018</td>\n",
       "      <td>Electronic dance music, Dance/Electronic</td>\n",
       "    </tr>\n",
       "    <tr>\n",
       "      <th>499</th>\n",
       "      <td>2018</td>\n",
       "      <td>Sativa</td>\n",
       "      <td>Jhene Aiko Featuring Swae Lee Or Rae Sremmurd</td>\n",
       "      <td>False</td>\n",
       "      <td>None</td>\n",
       "      <td>2018</td>\n",
       "      <td>Electronic dance music, Dance/Electronic</td>\n",
       "    </tr>\n",
       "  </tbody>\n",
       "</table>\n",
       "<p>500 rows × 7 columns</p>\n",
       "</div>"
      ],
      "text/plain": [
       "    Top100Year            SongTitle  \\\n",
       "0         2014                Fancy   \n",
       "1         2014              Problem   \n",
       "2         2014                 Rude   \n",
       "3         2014           Am I Wrong   \n",
       "4         2014         Stay With Me   \n",
       "..         ...                  ...   \n",
       "495       2018                  OTW   \n",
       "496       2018                 Solo   \n",
       "497       2018  Take Back Home Girl   \n",
       "498       2018                 Boss   \n",
       "499       2018               Sativa   \n",
       "\n",
       "                                            Artist  LyricsStatus  \\\n",
       "0                 Iggy Azalea Featuring Charli XCX         False   \n",
       "1              Ariana Grande Featuring Iggy Azalea          True   \n",
       "2                                           MAGIC!          True   \n",
       "3                                      Nico & Vinz          True   \n",
       "4                                        Sam Smith         False   \n",
       "..                                             ...           ...   \n",
       "495                  Khalid, Ty Dolla $ign & 6LACK          True   \n",
       "496             Clean Bandit Featuring Demi Lovato          True   \n",
       "497                Chris Lane Featuring Tori Kelly         False   \n",
       "498                                    The Carters          True   \n",
       "499  Jhene Aiko Featuring Swae Lee Or Rae Sremmurd         False   \n",
       "\n",
       "                                                Lyrics ReleaseYear  \\\n",
       "0                                                 None        2014   \n",
       "1    Uh-huh!\\nIt's Iggy Iggs!\\nI got one more probl...        2014   \n",
       "2    Saturday mornin', jumped out of bed\\nAnd put o...        2014   \n",
       "3    Am I wrong for thinking out the box from where...        2014   \n",
       "4                                                 None        2014   \n",
       "..                                                 ...         ...   \n",
       "495  Na, na, na, na, ooh\\nOh, no, oh, ayy\\nPut it i...        2018   \n",
       "496  You speak to me\\nAnd in your words I hear a me...        2018   \n",
       "497                                               None        2018   \n",
       "498  Mm, mm\\nAin't nothing to it, real one\\nAin't n...        2018   \n",
       "499                                               None        2018   \n",
       "\n",
       "                                        Genre  \n",
       "0                 UK R&B, Hip-Hop/Rap, UK Rap  \n",
       "1             Contemporary R&B, R&B/Soul, Pop  \n",
       "2                          Reggae fusion, Pop  \n",
       "3                          Reggae fusion, Pop  \n",
       "4               Dance/Electronic, Pop, UK R&B  \n",
       "..                                        ...  \n",
       "495                Rhythm and blues, R&B/Soul  \n",
       "496  Electronic dance music, Dance/Electronic  \n",
       "497  Electronic dance music, Dance/Electronic  \n",
       "498  Electronic dance music, Dance/Electronic  \n",
       "499  Electronic dance music, Dance/Electronic  \n",
       "\n",
       "[500 rows x 7 columns]"
      ]
     },
     "execution_count": 12,
     "metadata": {},
     "output_type": "execute_result"
    }
   ],
   "source": [
    "df"
   ]
  },
  {
   "cell_type": "code",
   "execution_count": 13,
   "id": "8b89e38f",
   "metadata": {
    "id": "8b89e38f"
   },
   "outputs": [],
   "source": [
    "# Converting DataFrame to CSV\n",
    "df.to_csv('billboard_2019_to_2023_top_100_song_lyrics.csv', index=False)"
   ]
  },
  {
   "cell_type": "code",
   "execution_count": null,
   "id": "c19257dd",
   "metadata": {
    "id": "c19257dd"
   },
   "outputs": [],
   "source": []
  }
 ],
 "metadata": {
  "colab": {
   "provenance": []
  },
  "kernelspec": {
   "display_name": "Python 3 (ipykernel)",
   "language": "python",
   "name": "python3"
  },
  "language_info": {
   "codemirror_mode": {
    "name": "ipython",
    "version": 3
   },
   "file_extension": ".py",
   "mimetype": "text/x-python",
   "name": "python",
   "nbconvert_exporter": "python",
   "pygments_lexer": "ipython3",
   "version": "3.11.7"
  }
 },
 "nbformat": 4,
 "nbformat_minor": 5
}
