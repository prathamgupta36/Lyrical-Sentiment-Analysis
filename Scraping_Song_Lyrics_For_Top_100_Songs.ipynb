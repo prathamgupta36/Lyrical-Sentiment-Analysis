{
 "cells": [
  {
   "cell_type": "code",
   "execution_count": 1,
   "id": "b483f96e-322f-46fc-ab98-89c4f555003c",
   "metadata": {
    "colab": {
     "base_uri": "https://localhost:8080/"
    },
    "id": "b483f96e-322f-46fc-ab98-89c4f555003c",
    "outputId": "5560dce4-8240-49fd-80f2-5017ef5c9b43"
   },
   "outputs": [
    {
     "name": "stdout",
     "output_type": "stream",
     "text": [
      "Requirement already satisfied: webdriver-manager in /opt/homebrew/lib/python3.11/site-packages (4.0.1)\n",
      "Requirement already satisfied: requests in /opt/homebrew/lib/python3.11/site-packages (from webdriver-manager) (2.31.0)\n",
      "Requirement already satisfied: python-dotenv in /opt/homebrew/lib/python3.11/site-packages (from webdriver-manager) (1.0.0)\n",
      "Requirement already satisfied: packaging in /opt/homebrew/lib/python3.11/site-packages (from webdriver-manager) (23.2)\n",
      "Requirement already satisfied: charset-normalizer<4,>=2 in /opt/homebrew/lib/python3.11/site-packages (from requests->webdriver-manager) (3.2.0)\n",
      "Requirement already satisfied: idna<4,>=2.5 in /opt/homebrew/lib/python3.11/site-packages (from requests->webdriver-manager) (3.4)\n",
      "Requirement already satisfied: urllib3<3,>=1.21.1 in /opt/homebrew/lib/python3.11/site-packages (from requests->webdriver-manager) (2.0.5)\n",
      "Requirement already satisfied: certifi>=2017.4.17 in /opt/homebrew/lib/python3.11/site-packages (from requests->webdriver-manager) (2023.11.17)\n",
      "Note: you may need to restart the kernel to use updated packages.\n"
     ]
    }
   ],
   "source": [
    "pip install webdriver-manager"
   ]
  },
  {
   "cell_type": "code",
   "execution_count": 2,
   "id": "5672a353-aa32-481e-a7fd-423e2aa80f7d",
   "metadata": {
    "colab": {
     "base_uri": "https://localhost:8080/"
    },
    "id": "5672a353-aa32-481e-a7fd-423e2aa80f7d",
    "outputId": "8067b32a-6693-4436-f6e1-ebabbe030b8e"
   },
   "outputs": [
    {
     "name": "stdout",
     "output_type": "stream",
     "text": [
      "Requirement already satisfied: selenium in /opt/homebrew/lib/python3.11/site-packages (4.18.1)\n",
      "Requirement already satisfied: urllib3<3,>=1.26 in /opt/homebrew/lib/python3.11/site-packages (from urllib3[socks]<3,>=1.26->selenium) (2.0.5)\n",
      "Requirement already satisfied: trio~=0.17 in /opt/homebrew/lib/python3.11/site-packages (from selenium) (0.24.0)\n",
      "Requirement already satisfied: trio-websocket~=0.9 in /opt/homebrew/lib/python3.11/site-packages (from selenium) (0.11.1)\n",
      "Requirement already satisfied: certifi>=2021.10.8 in /opt/homebrew/lib/python3.11/site-packages (from selenium) (2023.11.17)\n",
      "Requirement already satisfied: typing_extensions>=4.9.0 in /opt/homebrew/lib/python3.11/site-packages (from selenium) (4.9.0)\n",
      "Requirement already satisfied: attrs>=20.1.0 in /opt/homebrew/lib/python3.11/site-packages (from trio~=0.17->selenium) (23.1.0)\n",
      "Requirement already satisfied: sortedcontainers in /opt/homebrew/lib/python3.11/site-packages (from trio~=0.17->selenium) (2.4.0)\n",
      "Requirement already satisfied: idna in /opt/homebrew/lib/python3.11/site-packages (from trio~=0.17->selenium) (3.4)\n",
      "Requirement already satisfied: outcome in /opt/homebrew/lib/python3.11/site-packages (from trio~=0.17->selenium) (1.3.0.post0)\n",
      "Requirement already satisfied: sniffio>=1.3.0 in /opt/homebrew/lib/python3.11/site-packages (from trio~=0.17->selenium) (1.3.0)\n",
      "Requirement already satisfied: wsproto>=0.14 in /opt/homebrew/lib/python3.11/site-packages (from trio-websocket~=0.9->selenium) (1.2.0)\n",
      "Requirement already satisfied: pysocks!=1.5.7,<2.0,>=1.5.6 in /opt/homebrew/lib/python3.11/site-packages (from urllib3[socks]<3,>=1.26->selenium) (1.7.1)\n",
      "Requirement already satisfied: h11<1,>=0.9.0 in /opt/homebrew/lib/python3.11/site-packages (from wsproto>=0.14->trio-websocket~=0.9->selenium) (0.14.0)\n",
      "Note: you may need to restart the kernel to use updated packages.\n"
     ]
    }
   ],
   "source": [
    "pip install selenium"
   ]
  },
  {
   "cell_type": "code",
   "execution_count": 3,
   "id": "2340f40e",
   "metadata": {
    "id": "2340f40e"
   },
   "outputs": [],
   "source": [
    "# Importing required libraries\n",
    "import pandas as pd\n",
    "import time\n",
    "\n",
    "from webdriver_manager.microsoft import EdgeChromiumDriverManager\n",
    "from selenium.webdriver.common.by import By\n",
    "from selenium import webdriver\n",
    "from selenium.webdriver.support.ui import WebDriverWait\n",
    "from selenium.webdriver.common.by import By\n",
    "from selenium.webdriver.support import expected_conditions as EC"
   ]
  },
  {
   "cell_type": "code",
   "execution_count": 4,
   "id": "1IDCFo3aUQVN",
   "metadata": {
    "colab": {
     "base_uri": "https://localhost:8080/"
    },
    "id": "1IDCFo3aUQVN",
    "outputId": "6348b554-bac8-4ec2-81ec-9923b1eab457"
   },
   "outputs": [
    {
     "name": "stdout",
     "output_type": "stream",
     "text": [
      "Requirement already satisfied: webdriver-manager in /opt/homebrew/lib/python3.11/site-packages (4.0.1)\n",
      "Requirement already satisfied: requests in /opt/homebrew/lib/python3.11/site-packages (from webdriver-manager) (2.31.0)\n",
      "Requirement already satisfied: python-dotenv in /opt/homebrew/lib/python3.11/site-packages (from webdriver-manager) (1.0.0)\n",
      "Requirement already satisfied: packaging in /opt/homebrew/lib/python3.11/site-packages (from webdriver-manager) (23.2)\n",
      "Requirement already satisfied: charset-normalizer<4,>=2 in /opt/homebrew/lib/python3.11/site-packages (from requests->webdriver-manager) (3.2.0)\n",
      "Requirement already satisfied: idna<4,>=2.5 in /opt/homebrew/lib/python3.11/site-packages (from requests->webdriver-manager) (3.4)\n",
      "Requirement already satisfied: urllib3<3,>=1.21.1 in /opt/homebrew/lib/python3.11/site-packages (from requests->webdriver-manager) (2.0.5)\n",
      "Requirement already satisfied: certifi>=2017.4.17 in /opt/homebrew/lib/python3.11/site-packages (from requests->webdriver-manager) (2023.11.17)\n",
      "Note: you may need to restart the kernel to use updated packages.\n"
     ]
    }
   ],
   "source": [
    "pip install --upgrade webdriver-manager"
   ]
  },
  {
   "cell_type": "code",
   "execution_count": 5,
   "id": "f6d8ebba",
   "metadata": {
    "colab": {
     "base_uri": "https://localhost:8080/",
     "height": 365
    },
    "id": "f6d8ebba",
    "outputId": "d4a22c7a-eab5-4e6b-ef70-f18e4d874e8d"
   },
   "outputs": [],
   "source": [
    "# Initializing the driver\n",
    "from webdriver_manager.firefox import GeckoDriverManager\n",
    "from selenium.webdriver.firefox.service import Service\n",
    "\n",
    "# Initialize the Firefox driver using WebDriverManager to handle the GeckoDriver\n",
    "# driver = webdriver.Firefox(executable_path=GeckoDriverManager().install())\n",
    "service = Service(executable_path=GeckoDriverManager().install())\n",
    "options = webdriver.FirefoxOptions()\n",
    "driver = webdriver.Firefox(service=service, options=options)\n",
    "# driver = webdriver.Firefox(executable_path= \"/Users/shashnavad/Downloads/Semantic Web Mining Project/geckodriver.exe\")\n",
    "#driver = webdriver.Chrome(r\"C:\\Users\\Amisha\\OneDrive\\Aegis\\NLP\\Project\\chromedriver.exe\")\n",
    "# Browsing to billboard hot-100 chart on the driver\n",
    "driver.get(\"https://www.billboard.com/charts/hot-100/\")\n",
    "dates = [str(i) for i in range(2023,2024)]\n",
    "#driver.get(\"https://www.google.com\")\n"
   ]
  },
  {
   "cell_type": "code",
   "execution_count": 6,
   "id": "db37fa9c",
   "metadata": {
    "colab": {
     "base_uri": "https://localhost:8080/",
     "height": 216
    },
    "id": "db37fa9c",
    "outputId": "a0144810-a345-43b1-d012-a89caecc2264"
   },
   "outputs": [
    {
     "name": "stdout",
     "output_type": "stream",
     "text": [
      "2023\n"
     ]
    }
   ],
   "source": [
    "import time\n",
    "\n",
    "artists_data = {} # List to store name of artists\n",
    "songs_data = {} # List to store top 100 songs\n",
    "\n",
    "for j in dates:\n",
    "    link = \"https://www.billboard.com/charts/hot-100/{}-07-01/\".format(j)\n",
    "    driver.implicitly_wait(10)\n",
    "    driver.get(link)\n",
    "\n",
    "    # Container for referencing the division with top 100 songs\n",
    "    div = driver.find_elements(By.CLASS_NAME,'o-chart-results-list-row-container')\n",
    "    songs, artists = [], []\n",
    "    print(j)\n",
    "    # Fetching the top 100 songs\n",
    "    for i in div:\n",
    "        # Getting the song name\n",
    "        song = i.find_element(By.CSS_SELECTOR,'li ul li h3').text\n",
    "        # Getting the artist name\n",
    "        name = i.find_element(By.CSS_SELECTOR,'li ul li span').text\n",
    "        # Appending the song and artist name to the lists\n",
    "        songs.append(song)\n",
    "        artists.append(name)\n",
    "    \n",
    "\n",
    "    artists_data[j] = artists\n",
    "    songs_data[j] = songs"
   ]
  },
  {
   "cell_type": "code",
   "execution_count": 7,
   "id": "45303ac4",
   "metadata": {
    "id": "45303ac4"
   },
   "outputs": [],
   "source": [
    "# Terminating a session and closing the active browser\n",
    "driver.close()"
   ]
  },
  {
   "cell_type": "code",
   "execution_count": 8,
   "id": "5e29594b",
   "metadata": {
    "id": "5e29594b"
   },
   "outputs": [],
   "source": [
    "service = Service(executable_path=GeckoDriverManager().install())\n",
    "options = webdriver.FirefoxOptions()\n",
    "driver = webdriver.Firefox(service=service, options=options)"
   ]
  },
  {
   "cell_type": "code",
   "execution_count": 9,
   "id": "476069b5",
   "metadata": {
    "id": "476069b5"
   },
   "outputs": [],
   "source": [
    "# Browsing to Google\n",
    "driver.get(\"https://www.google.com\")"
   ]
  },
  {
   "cell_type": "code",
   "execution_count": 10,
   "id": "a161faad",
   "metadata": {
    "id": "a161faad"
   },
   "outputs": [
    {
     "name": "stdout",
     "output_type": "stream",
     "text": [
      "2023\n"
     ]
    }
   ],
   "source": [
    "# Dataframe to store the song, artist and lyrics\n",
    "df = pd.DataFrame(columns = ['Top100Year','SongTitle','Artist','LyricsStatus','Lyrics','ReleaseYear','Genre'])\n",
    "\n",
    "# Fetching song lyrics for top 100 songs\n",
    "for year in songs_data.keys():\n",
    "    songs_list = songs_data[year]\n",
    "    artists_list = artists_data[year]\n",
    "    # Index Variable\n",
    "    a = 0\n",
    "    print(year)\n",
    "    for song in songs_list:\n",
    "        # Selenium WebDriverWait is one of the Explicit waits.\n",
    "        # Explicit waits are confined to a particular web element.\n",
    "        # Explicit Wait is code you define to wait for a certain condition to occur before proceeding further in the code.\n",
    "        # It is applied on certain element with defined expected condition and time.\n",
    "        # This wait is only applied to the specified element. This wait can also throw exception when element is not found.\n",
    "        # Here we will wait for the google search button element to be clickable.\n",
    "        # https://www.softwaretestingmaterial.com/webdriverwait-selenium-webdriver/\n",
    "        element = WebDriverWait(driver, 20).until(EC.element_to_be_clickable((By.NAME, \"q\")))\n",
    "        # Entering the search text\n",
    "        element.send_keys(\"{} {} lyrics\".format(artists_list[a],song))\n",
    "        # Submiting the form for google search\n",
    "        element.submit()\n",
    "        # To prevent captcha being initialized due to bot activity\n",
    "        time.sleep(10)\n",
    "        try:\n",
    "            # Fetching the default lyrics fetched by google using 'lyricfind'\n",
    "            lyric = driver.find_element(By.CLASS_NAME,'xaAUmb').text\n",
    "            # If default lyrics is available, set lyricstatus to True\n",
    "            # Lyric Status True indicates lyrics are available\n",
    "            status = True\n",
    "        except:\n",
    "            # If default lyrics is not available, set lyricstatus to False\n",
    "            # Lyric Status False indicates lyrics are not available\n",
    "            status = False\n",
    "            lyric = None\n",
    "        try:\n",
    "            # Fetching genre and release year of the song\n",
    "            info = driver.find_elements(By.CSS_SELECTOR,'div.rVusze')\n",
    "            for i in info:\n",
    "                if i.find_element(By.CLASS_NAME,'w8qArf').text == 'Released:':\n",
    "                    release_year = i.find_element(By.CLASS_NAME,'LrzXr').text\n",
    "                if i.find_element(By.CLASS_NAME,'w8qArf').text == 'Genres:':\n",
    "                    genre = i.find_element(By.CLASS_NAME,'LrzXr').text\n",
    "            if len(release_year) == 0:\n",
    "                release_year = None\n",
    "            if len(genre) == 0:\n",
    "                genre = None\n",
    "        except:\n",
    "            # If genre and year information is not available\n",
    "            release_year = None\n",
    "            genre = None\n",
    "        # Adding the song, artist and lyrics to dataframe\n",
    "        df.loc[len(df.index)] = [year, song, artists_list[a], status, lyric, release_year, genre]\n",
    "        a+=1\n",
    "        # Browsing back to Google search home page\n",
    "        driver.back()"
   ]
  },
  {
   "cell_type": "code",
   "execution_count": 11,
   "id": "05f0622b",
   "metadata": {
    "id": "05f0622b"
   },
   "outputs": [],
   "source": [
    "# Terminating a session and closing the active browser\n",
    "driver.close()"
   ]
  },
  {
   "cell_type": "code",
   "execution_count": 12,
   "id": "bd2a0d64",
   "metadata": {
    "id": "bd2a0d64",
    "outputId": "8bf68bca-9324-4d57-c804-24cb260b0c7e"
   },
   "outputs": [
    {
     "data": {
      "text/html": [
       "<div>\n",
       "<style scoped>\n",
       "    .dataframe tbody tr th:only-of-type {\n",
       "        vertical-align: middle;\n",
       "    }\n",
       "\n",
       "    .dataframe tbody tr th {\n",
       "        vertical-align: top;\n",
       "    }\n",
       "\n",
       "    .dataframe thead th {\n",
       "        text-align: right;\n",
       "    }\n",
       "</style>\n",
       "<table border=\"1\" class=\"dataframe\">\n",
       "  <thead>\n",
       "    <tr style=\"text-align: right;\">\n",
       "      <th></th>\n",
       "      <th>Top100Year</th>\n",
       "      <th>SongTitle</th>\n",
       "      <th>Artist</th>\n",
       "      <th>LyricsStatus</th>\n",
       "      <th>Lyrics</th>\n",
       "      <th>ReleaseYear</th>\n",
       "      <th>Genre</th>\n",
       "    </tr>\n",
       "  </thead>\n",
       "  <tbody>\n",
       "    <tr>\n",
       "      <th>0</th>\n",
       "      <td>2023</td>\n",
       "      <td>Last Night</td>\n",
       "      <td>Morgan Wallen</td>\n",
       "      <td>True</td>\n",
       "      <td>Last night we let the liquor talk\\nI can't rem...</td>\n",
       "      <td>None</td>\n",
       "      <td>None</td>\n",
       "    </tr>\n",
       "    <tr>\n",
       "      <th>1</th>\n",
       "      <td>2023</td>\n",
       "      <td>Fast Car</td>\n",
       "      <td>Luke Combs</td>\n",
       "      <td>True</td>\n",
       "      <td>You got a fast car\\nAnd I want a ticket to any...</td>\n",
       "      <td>None</td>\n",
       "      <td>None</td>\n",
       "    </tr>\n",
       "    <tr>\n",
       "      <th>2</th>\n",
       "      <td>2023</td>\n",
       "      <td>Calm Down</td>\n",
       "      <td>Rema &amp; Selena Gomez</td>\n",
       "      <td>True</td>\n",
       "      <td>Another banger\\nBaby, calm down, calm down\\nGi...</td>\n",
       "      <td>None</td>\n",
       "      <td>None</td>\n",
       "    </tr>\n",
       "    <tr>\n",
       "      <th>3</th>\n",
       "      <td>2023</td>\n",
       "      <td>Flowers</td>\n",
       "      <td>Miley Cyrus</td>\n",
       "      <td>True</td>\n",
       "      <td>We were good, we were gold\\nKinda dream that c...</td>\n",
       "      <td>None</td>\n",
       "      <td>None</td>\n",
       "    </tr>\n",
       "    <tr>\n",
       "      <th>4</th>\n",
       "      <td>2023</td>\n",
       "      <td>All My Life</td>\n",
       "      <td>Lil Durk Featuring J. Cole</td>\n",
       "      <td>True</td>\n",
       "      <td>Durkio told me he been on some positive shit, ...</td>\n",
       "      <td>None</td>\n",
       "      <td>None</td>\n",
       "    </tr>\n",
       "    <tr>\n",
       "      <th>...</th>\n",
       "      <td>...</td>\n",
       "      <td>...</td>\n",
       "      <td>...</td>\n",
       "      <td>...</td>\n",
       "      <td>...</td>\n",
       "      <td>...</td>\n",
       "      <td>...</td>\n",
       "    </tr>\n",
       "    <tr>\n",
       "      <th>95</th>\n",
       "      <td>2023</td>\n",
       "      <td>Angel, Pt. 1</td>\n",
       "      <td>Kodak Black, NLE Choppa, Jimin, JVKE &amp; Muni Long</td>\n",
       "      <td>True</td>\n",
       "      <td>Angel, don't fly so close to me\\nI'll pull you...</td>\n",
       "      <td>2023</td>\n",
       "      <td>Afrobeats, R&amp;B/Soul, Nigerian R&amp;B, Afropop, UK...</td>\n",
       "    </tr>\n",
       "    <tr>\n",
       "      <th>96</th>\n",
       "      <td>2023</td>\n",
       "      <td>Girl In Mine</td>\n",
       "      <td>Parmalee</td>\n",
       "      <td>True</td>\n",
       "      <td>In my t-shirt, in my ride\\nRunnin' circles in ...</td>\n",
       "      <td>2021</td>\n",
       "      <td>Afrobeats, R&amp;B/Soul, Nigerian R&amp;B, Afropop, UK...</td>\n",
       "    </tr>\n",
       "    <tr>\n",
       "      <th>97</th>\n",
       "      <td>2023</td>\n",
       "      <td>Moonlight</td>\n",
       "      <td>Kali Uchis</td>\n",
       "      <td>False</td>\n",
       "      <td>None</td>\n",
       "      <td>2023</td>\n",
       "      <td>Afrobeats, R&amp;B/Soul, Nigerian R&amp;B, Afropop, UK...</td>\n",
       "    </tr>\n",
       "    <tr>\n",
       "      <th>98</th>\n",
       "      <td>2023</td>\n",
       "      <td>Classy 101</td>\n",
       "      <td>Feid x Young Miko</td>\n",
       "      <td>True</td>\n",
       "      <td>To' los día' te imagino\\nCómo te debes ver sin...</td>\n",
       "      <td>2023</td>\n",
       "      <td>Afrobeats, R&amp;B/Soul, Nigerian R&amp;B, Afropop, UK...</td>\n",
       "    </tr>\n",
       "    <tr>\n",
       "      <th>99</th>\n",
       "      <td>2023</td>\n",
       "      <td>Bluffin</td>\n",
       "      <td>Gucci Mane &amp; Lil Baby</td>\n",
       "      <td>True</td>\n",
       "      <td>Switch the weather when I want, we at the othe...</td>\n",
       "      <td>2023</td>\n",
       "      <td>R&amp;B/Soul, Hip-Hop/Rap</td>\n",
       "    </tr>\n",
       "  </tbody>\n",
       "</table>\n",
       "<p>100 rows × 7 columns</p>\n",
       "</div>"
      ],
      "text/plain": [
       "   Top100Year     SongTitle                                            Artist  \\\n",
       "0        2023    Last Night                                     Morgan Wallen   \n",
       "1        2023      Fast Car                                        Luke Combs   \n",
       "2        2023     Calm Down                               Rema & Selena Gomez   \n",
       "3        2023       Flowers                                       Miley Cyrus   \n",
       "4        2023   All My Life                        Lil Durk Featuring J. Cole   \n",
       "..        ...           ...                                               ...   \n",
       "95       2023  Angel, Pt. 1  Kodak Black, NLE Choppa, Jimin, JVKE & Muni Long   \n",
       "96       2023  Girl In Mine                                          Parmalee   \n",
       "97       2023     Moonlight                                        Kali Uchis   \n",
       "98       2023    Classy 101                                 Feid x Young Miko   \n",
       "99       2023       Bluffin                             Gucci Mane & Lil Baby   \n",
       "\n",
       "    LyricsStatus                                             Lyrics  \\\n",
       "0           True  Last night we let the liquor talk\\nI can't rem...   \n",
       "1           True  You got a fast car\\nAnd I want a ticket to any...   \n",
       "2           True  Another banger\\nBaby, calm down, calm down\\nGi...   \n",
       "3           True  We were good, we were gold\\nKinda dream that c...   \n",
       "4           True  Durkio told me he been on some positive shit, ...   \n",
       "..           ...                                                ...   \n",
       "95          True  Angel, don't fly so close to me\\nI'll pull you...   \n",
       "96          True  In my t-shirt, in my ride\\nRunnin' circles in ...   \n",
       "97         False                                               None   \n",
       "98          True  To' los día' te imagino\\nCómo te debes ver sin...   \n",
       "99          True  Switch the weather when I want, we at the othe...   \n",
       "\n",
       "   ReleaseYear                                              Genre  \n",
       "0         None                                               None  \n",
       "1         None                                               None  \n",
       "2         None                                               None  \n",
       "3         None                                               None  \n",
       "4         None                                               None  \n",
       "..         ...                                                ...  \n",
       "95        2023  Afrobeats, R&B/Soul, Nigerian R&B, Afropop, UK...  \n",
       "96        2021  Afrobeats, R&B/Soul, Nigerian R&B, Afropop, UK...  \n",
       "97        2023  Afrobeats, R&B/Soul, Nigerian R&B, Afropop, UK...  \n",
       "98        2023  Afrobeats, R&B/Soul, Nigerian R&B, Afropop, UK...  \n",
       "99        2023                              R&B/Soul, Hip-Hop/Rap  \n",
       "\n",
       "[100 rows x 7 columns]"
      ]
     },
     "execution_count": 12,
     "metadata": {},
     "output_type": "execute_result"
    }
   ],
   "source": [
    "df"
   ]
  },
  {
   "cell_type": "code",
   "execution_count": 13,
   "id": "8b89e38f",
   "metadata": {
    "id": "8b89e38f"
   },
   "outputs": [],
   "source": [
    "# Converting DataFrame to CSV\n",
    "df.to_csv('billboard_2023_top_100_song_lyrics.csv', index=False)"
   ]
  },
  {
   "cell_type": "code",
   "execution_count": null,
   "id": "c19257dd",
   "metadata": {
    "id": "c19257dd"
   },
   "outputs": [],
   "source": []
  }
 ],
 "metadata": {
  "colab": {
   "provenance": []
  },
  "kernelspec": {
   "display_name": "Python 3 (ipykernel)",
   "language": "python",
   "name": "python3"
  },
  "language_info": {
   "codemirror_mode": {
    "name": "ipython",
    "version": 3
   },
   "file_extension": ".py",
   "mimetype": "text/x-python",
   "name": "python",
   "nbconvert_exporter": "python",
   "pygments_lexer": "ipython3",
   "version": "3.11.7"
  }
 },
 "nbformat": 4,
 "nbformat_minor": 5
}
